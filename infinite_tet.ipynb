{
 "cells": [
  {
   "cell_type": "code",
   "execution_count": null,
   "metadata": {},
   "outputs": [],
   "source": [
    "from library import tet#, alt_tet\n",
    "import matplotlib.pyplot as plt\n",
    "from numpy import e, sqrt\n",
    "import numpy as np\n",
    "\n",
    "if __name__=='__main__':\n",
    "    x = np.linspace(0, e**(1/e), 1000)\n",
    "    plt.plot(x, [tet(i, 5000) for i in x], alpha=0.75, label='b = even') # 5000 is close to being infinite\n",
    "    plt.plot(x, [tet(i, 5001) for i in x], alpha=0.75, label='b = odd')\n",
    "    plt.title(r'$y=\\lim_{b\\rightarrow\\infty} (a\\uparrow\\uparrow b)$')\n",
    "    plt.xlabel(r'$a$, where $a \\in [0, e^{\\frac{1}{e}}]$')\n",
    "    plt.legend()\n",
    "    plt.show()\n",
    "    \n",
    "    # For more explanation of why this range of values asymptotically approaches a finite value when b-> infinity,\n",
    "    # and how, see https://youtu.be/elQVZLLiod4"
   ]
  }
 ],
 "metadata": {
  "kernelspec": {
   "display_name": "Python 3",
   "language": "python",
   "name": "python3"
  },
  "language_info": {
   "codemirror_mode": {
    "name": "ipython",
    "version": 3
   },
   "file_extension": ".py",
   "mimetype": "text/x-python",
   "name": "python",
   "nbconvert_exporter": "python",
   "pygments_lexer": "ipython3",
   "version": "3.8.2"
  }
 },
 "nbformat": 4,
 "nbformat_minor": 4
}
